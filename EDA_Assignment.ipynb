{
  "nbformat": 4,
  "nbformat_minor": 0,
  "metadata": {
    "colab": {
      "provenance": []
    },
    "kernelspec": {
      "name": "python3",
      "display_name": "Python 3"
    },
    "language_info": {
      "name": "python"
    }
  },
  "cells": [
    {
      "cell_type": "markdown",
      "source": [
        "##EDA 1"
      ],
      "metadata": {
        "id": "BxJeBtzRwbLo"
      }
    },
    {
      "cell_type": "markdown",
      "source": [
        "##Bike Details Dataset"
      ],
      "metadata": {
        "id": "7ITb_ZmOLX7M"
      }
    },
    {
      "cell_type": "markdown",
      "source": [],
      "metadata": {
        "id": "8qpRNoyTN7cL"
      }
    },
    {
      "cell_type": "markdown",
      "source": [
        "##Q 1. What is the range of selling prices in the dataset?"
      ],
      "metadata": {
        "id": "mc9YOZ5I3lnO"
      }
    },
    {
      "cell_type": "code",
      "source": [
        "import pandas as pd\n",
        "import numpy as np\n",
        "import seaborn as sns\n",
        "import matplotlib.pyplot as plt\n",
        "\n",
        "import warnings\n",
        "warnings.filterwarnings('ignore')\n",
        "\n",
        "df = pd.read_csv(\"file_location\")\n",
        "\n",
        "price_min = df['selling_price'].min()\n",
        "price_max = df['selling_price'].max()\n",
        "\n",
        "price_min, price_max"
      ],
      "metadata": {
        "id": "x7Z01qyASePN"
      },
      "execution_count": null,
      "outputs": []
    },
    {
      "cell_type": "markdown",
      "source": [
        "The range of selling prices in the dataset is from ₹5,000 to ₹7,60,000, with a total range of ₹7,55,000."
      ],
      "metadata": {
        "id": "TGuRhenjSkJU"
      }
    },
    {
      "cell_type": "markdown",
      "source": [
        "##Q 2. What is the median selling price for bikes in the datase?"
      ],
      "metadata": {
        "id": "c2V9Ro7L36gN"
      }
    },
    {
      "cell_type": "code",
      "source": [
        "median_price = df[\"selling_price\"].median()\n",
        "median_price"
      ],
      "metadata": {
        "id": "1GnPPSE154vG"
      },
      "execution_count": null,
      "outputs": []
    },
    {
      "cell_type": "markdown",
      "source": [
        "**Result**\n",
        "* The median selling price for bikes in the dataset is ₹45,000."
      ],
      "metadata": {
        "id": "vOhxwkw258_z"
      }
    },
    {
      "cell_type": "markdown",
      "source": [
        "##Q 3. What is the most common seller type?"
      ],
      "metadata": {
        "id": "IhumFXw-4EdV"
      }
    },
    {
      "cell_type": "code",
      "source": [
        "most_common_seller = df[\"seller_type\"].mode()[0]\n",
        "most_common_seller"
      ],
      "metadata": {
        "id": "oHw3bkvp6Tdb"
      },
      "execution_count": null,
      "outputs": []
    },
    {
      "cell_type": "markdown",
      "source": [
        "**Result**\n",
        "* The most common seller type in the dataset is \"Individual.\""
      ],
      "metadata": {
        "id": "PnECYxck6cZ1"
      }
    },
    {
      "cell_type": "markdown",
      "source": [
        "##Q 4. How many bikes have driven more than 50,000 kilometers?"
      ],
      "metadata": {
        "id": "oednrX5v4N3j"
      }
    },
    {
      "cell_type": "code",
      "source": [
        "bikes_above_50k_km = df[df[\"km_driven\"] > 50000].shape[0]\n",
        "bikes_above_50k_km"
      ],
      "metadata": {
        "id": "-0aq6fVN6rr7"
      },
      "execution_count": null,
      "outputs": []
    },
    {
      "cell_type": "markdown",
      "source": [
        "**Result**\n",
        "* There are 170 bikes in the dataset that have been driven more than 50,000 kilometers."
      ],
      "metadata": {
        "id": "yGniGtXS6vCF"
      }
    },
    {
      "cell_type": "markdown",
      "source": [
        "##Q 5. What is the average km_driven value for each ownership type?"
      ],
      "metadata": {
        "id": "nfziaw624X2T"
      }
    },
    {
      "cell_type": "code",
      "source": [
        "avg_km_driven_by_owner = df.groupby(\"owner\")[\"km_driven\"].mean()\n",
        "avg_km_driven_by_owner"
      ],
      "metadata": {
        "id": "VeUBxu1_7ATt"
      },
      "execution_count": null,
      "outputs": []
    },
    {
      "cell_type": "markdown",
      "source": [
        "**Result**\n",
        "* The average kilometers driven for each ownership type are:\n",
        "* 1st owner: 32,816 km\n",
        "* 2nd owner: 39,289 km\n",
        "* 3rd owner: 33,292 km\n",
        "* 4th owner: 311,500 km\n",
        "\n",
        "It looks like the 4th owner category has a significantly higher average, possibly due to a few extreme values."
      ],
      "metadata": {
        "id": "2TNMwocx7Eyb"
      }
    },
    {
      "cell_type": "markdown",
      "source": [
        "##Q 6. What proportion of bikes are from the year 2015 or older?"
      ],
      "metadata": {
        "id": "BM0tN6XJ4gVU"
      }
    },
    {
      "cell_type": "code",
      "source": [
        "bikes_2015_or_older = df[df[\"year\"] <= 2015].shape[0]\n",
        "\n",
        "total_bikes = df.shape[0]\n",
        "\n",
        "proportion_2015_or_older = bikes_2015_or_older / total_bikes\n",
        "proportion_2015_or_older"
      ],
      "metadata": {
        "id": "7LYijvhk7XJz"
      },
      "execution_count": null,
      "outputs": []
    },
    {
      "cell_type": "markdown",
      "source": [
        "**Result**\n",
        "* There are 601 bikes from 2015 or older, accounting for approximately 56.64% of the total bikes in the dataset."
      ],
      "metadata": {
        "id": "wJOjAC7w7a0Q"
      }
    },
    {
      "cell_type": "markdown",
      "source": [
        "##Q 7. What is the trend of missing values across the dataset?"
      ],
      "metadata": {
        "id": "jginkGo54o97"
      }
    },
    {
      "cell_type": "code",
      "source": [
        "import pandas as pd\n",
        "\n",
        "file_path = \"/mnt/data/BIKE DETAILS.csv\"\n",
        "df = pd.read_csv(file_path)\n",
        "\n",
        "missing_values = df.isnull().sum()\n",
        "\n",
        "missing_values = missing_values[missing_values > 0]\n",
        "missing_values"
      ],
      "metadata": {
        "id": "jAeq7Wro7wdb"
      },
      "execution_count": null,
      "outputs": []
    },
    {
      "cell_type": "markdown",
      "source": [
        "435 missing values, which accounts for 41.0% of the dataset.\n",
        "All other columns have no missing values."
      ],
      "metadata": {
        "id": "mBmqSqSz75Hq"
      }
    },
    {
      "cell_type": "markdown",
      "source": [
        "##Q 8. What is the highest ex_showroom_price recorded, and for which bike?"
      ],
      "metadata": {
        "id": "VRfmeTjc4xEd"
      }
    },
    {
      "cell_type": "code",
      "source": [
        "highest_ex_showroom_price = df[\"ex_showroom_price\"].max()\n",
        "bike_with_highest_price = df[df[\"ex_showroom_price\"] == highest_ex_showroom_price][\"name\"].values[0]\n",
        "\n",
        "highest_ex_showroom_price, bike_with_highest_price"
      ],
      "metadata": {
        "id": "Sq-vQavZ8KFC"
      },
      "execution_count": null,
      "outputs": []
    },
    {
      "cell_type": "markdown",
      "source": [
        "**Result**\n",
        "* The highest ex_showroom_price recorded is ₹12,78,000, and it belongs to the Harley-Davidson Street Bob."
      ],
      "metadata": {
        "id": "9lCeT8rr8Nyz"
      }
    },
    {
      "cell_type": "markdown",
      "source": [
        "##Q 9. What is the total number of bikes listed by each seller type?"
      ],
      "metadata": {
        "id": "EFJg4zhw430d"
      }
    },
    {
      "cell_type": "code",
      "source": [
        "bikes_by_seller_type = df[\"seller_type\"].value_counts()\n",
        "bikes_by_seller_type"
      ],
      "metadata": {
        "id": "AGyvxkSc8nuI"
      },
      "execution_count": null,
      "outputs": []
    },
    {
      "cell_type": "markdown",
      "source": [
        "**Result**\n",
        "* The total number of bikes listed by each seller type:\n",
        "  * Individual: 1,055 bikes\n",
        "  * Dealer: 6 bikes"
      ],
      "metadata": {
        "id": "Whbf-UnM8nJF"
      }
    },
    {
      "cell_type": "markdown",
      "source": [
        "##Q 10. What is the relationship between selling_price and km_driven for first-owner bikes?"
      ],
      "metadata": {
        "id": "EDaD7CBe4-6V"
      }
    },
    {
      "cell_type": "code",
      "source": [
        "import seaborn as sns\n",
        "import matplotlib.pyplot as plt\n",
        "\n",
        "first_owner_bikes = df[df[\"owner\"] == \"1st owner\"]\n",
        "\n",
        "plt.figure(figsize=(8, 5))\n",
        "sns.scatterplot(x=first_owner_bikes[\"km_driven\"], y=first_owner_bikes[\"selling_price\"], alpha=0.5)\n",
        "plt.xlabel(\"Kilometers Driven\")\n",
        "plt.ylabel(\"Selling Price (₹)\")\n",
        "plt.title(\"Relationship between Selling Price and Km Driven for First-Owner Bikes\")\n",
        "plt.show()\n",
        "\n",
        "correlation = first_owner_bikes[\"km_driven\"].corr(first_owner_bikes[\"selling_price\"])\n",
        "correlation"
      ],
      "metadata": {
        "id": "Fz2E2_s889lz"
      },
      "execution_count": null,
      "outputs": []
    },
    {
      "cell_type": "markdown",
      "source": [
        "**Result**\n",
        "* The scatter plot shows the relationship between selling price and kilometers driven for first-owner bikes.\n",
        "* The correlation coefficient is -0.24, indicating a weak negative relationship.\n",
        "\n",
        "This suggests that, generally, as km driven increases, the selling price tends to decrease, but the effect is not very strong."
      ],
      "metadata": {
        "id": "4Kut7eI19C0e"
      }
    },
    {
      "cell_type": "markdown",
      "source": [
        "##Q 11. Identify and remove outliers in the km_driven column using the IQR method?"
      ],
      "metadata": {
        "id": "4o869e5G5GJ0"
      }
    },
    {
      "cell_type": "code",
      "source": [
        "Q1 = df[\"km_driven\"].quantile(0.25)\n",
        "Q3 = df[\"km_driven\"].quantile(0.75)\n",
        "IQR = Q3 - Q1\n",
        "\n",
        "lower_bound = Q1 - 1.5 * IQR\n",
        "upper_bound = Q3 + 1.5 * IQR\n",
        "\n",
        "outliers = df[(df[\"km_driven\"] < lower_bound) | (df[\"km_driven\"] > upper_bound)]\n",
        "\n",
        "df_cleaned = df[(df[\"km_driven\"] >= lower_bound) & (df[\"km_driven\"] <= upper_bound)]\n",
        "\n",
        "outliers_removed = df.shape[0] - df_cleaned.shape[0]\n",
        "\n",
        "outliers_removed, df_cleaned.shape[0]"
      ],
      "metadata": {
        "id": "hoMjVqyA9ZKR"
      },
      "execution_count": null,
      "outputs": []
    },
    {
      "cell_type": "markdown",
      "source": [
        "**Result**\n",
        "* A total of 39 outliers were identified and removed from the km_driven column using the IQR method.\n",
        "\n",
        "The cleaned dataset now contains 1,022 records."
      ],
      "metadata": {
        "id": "yyUuZFw49dJH"
      }
    },
    {
      "cell_type": "markdown",
      "source": [
        "##Q 12. Perform a bivariate analysis to visualize the relationship between year and selling_price?"
      ],
      "metadata": {
        "id": "ESwnkvF95MRD"
      }
    },
    {
      "cell_type": "code",
      "source": [
        "plt.figure(figsize=(8, 5))\n",
        "sns.scatterplot(x=df[\"year\"], y=df[\"selling_price\"], alpha=0.5)\n",
        "plt.xlabel(\"Year of Manufacture\")\n",
        "plt.ylabel(\"Selling Price (₹)\")\n",
        "plt.title(\"Relationship between Year and Selling Price\")\n",
        "plt.show()\n",
        "\n",
        "correlation_year_price = df[\"year\"].corr(df[\"selling_price\"])\n",
        "correlation_year_price"
      ],
      "metadata": {
        "id": "TOOf8V8m9vFb"
      },
      "execution_count": null,
      "outputs": []
    },
    {
      "cell_type": "markdown",
      "source": [
        "**Result**\n",
        "* The scatter plot shows the relationship between year of manufacture and selling price of bikes.\n",
        "* The correlation coefficient is 0.40, indicating a moderate positive relationship.\n",
        "\n",
        "This suggests that newer bikes generally have higher selling prices, but other factors may also influence the price."
      ],
      "metadata": {
        "id": "h-2XsohD9zOM"
      }
    },
    {
      "cell_type": "markdown",
      "source": [
        "##Q 13. What is the average depreciation in selling price based on the bike's age (current year - manufacturing year)?"
      ],
      "metadata": {
        "id": "MbvOluvn5Rbu"
      }
    },
    {
      "cell_type": "code",
      "source": [
        "current_year = 2025\n",
        "df[\"bike_age\"] = current_year - df[\"year\"]\n",
        "\n",
        "avg_depreciation = df.groupby(\"bike_age\")[\"selling_price\"].mean().diff().mean()\n",
        "avg_depreciation"
      ],
      "metadata": {
        "id": "lsv4Xqz5-FXL"
      },
      "execution_count": null,
      "outputs": []
    },
    {
      "cell_type": "markdown",
      "source": [
        "**Result**\n",
        "* The average depreciation in selling price based on the bike's age is approximately ₹6,049 per year."
      ],
      "metadata": {
        "id": "5jCU_oBS-I3r"
      }
    },
    {
      "cell_type": "markdown",
      "source": [
        "##Q 14. Which bike names are priced significantly above the average price for their manufacturing year?"
      ],
      "metadata": {
        "id": "kL-Ww5wo5WIK"
      }
    },
    {
      "cell_type": "code",
      "source": [
        "avg_price_per_year = df.groupby(\"year\")[\"selling_price\"].mean()\n",
        "\n",
        "df[\"avg_price_for_year\"] = df[\"year\"].map(avg_price_per_year)\n",
        "\n",
        "significantly_above_avg = df[df[\"selling_price\"] > 1.5 * df[\"avg_price_for_year\"]]\n",
        "\n",
        "unique_bike_names_above_avg = significantly_above_avg[\"name\"].unique()\n",
        "unique_bike_names_above_avg"
      ],
      "metadata": {
        "id": "5D8x5rCy-d-7"
      },
      "execution_count": null,
      "outputs": []
    },
    {
      "cell_type": "markdown",
      "source": [
        "**Result**\n",
        "* The following bikes are priced significantly above the average price for their manufacturing year:\n",
        "  * Royal Enfield Classic Gunmetal Grey\n",
        "  * Royal Enfield Bullet 350 [2007-2011]\n",
        "  * Yamaha YZF R3\n",
        "  * Jawa Standard\n",
        "  * Royal Enfield Thunderbird 350\n",
        "  * Honda CBR-250R\n",
        "  * Bajaj Dominar 400\n",
        "  * KTM 390 Duke\n",
        "  * Harley-Davidson Street Bob\n",
        "  * Kawasaki Ninja 650 [2018-2019]\n",
        "  * Suzuki GSX S750\n",
        "  * TVS Apache RR310\n",
        "  * BMW G310GS\n",
        "  * Royal Enfield Interceptor 650\n",
        "  * KTM RC 390\n",
        "  * Hyosung GT250R\n",
        "  * Kawasaki Ninja 300\n",
        "  * Benelli TNT 25\n",
        "...and many more Royal Enfield, KTM, Yamaha, and Honda models.\n",
        "\n",
        "These bikes likely have higher resale values due to brand reputation, limited availability, performance features, or modifications."
      ],
      "metadata": {
        "id": "Th7QY3St-ljF"
      }
    },
    {
      "cell_type": "markdown",
      "source": [
        "##Q 15. Develop a correlation matrix for numeric columns and visualize it using a heatmap?"
      ],
      "metadata": {
        "id": "e1YN2weV5b_t"
      }
    },
    {
      "cell_type": "code",
      "source": [
        "correlation_matrix = df.corr()\n",
        "\n",
        "plt.figure(figsize=(8, 6))\n",
        "sns.heatmap(correlation_matrix, annot=True, cmap=\"coolwarm\", fmt=\".2f\", linewidths=0.5)\n",
        "plt.title(\"Correlation Matrix Heatmap\")\n",
        "plt.show()"
      ],
      "metadata": {
        "id": "G1z8MLvF-0Xy"
      },
      "execution_count": null,
      "outputs": []
    },
    {
      "cell_type": "markdown",
      "source": [
        "**Key Observations:**\n",
        "* Selling price and year have a moderate positive correlation, indicating that newer bikes generally have higher selling prices.\n",
        "* Selling price and km_driven show a weak negative correlation, meaning higher mileage slightly reduces resale value.\n",
        "* Ex-showroom price and selling price have a strong positive correlation, suggesting that bikes with a higher original price tend to have higher resale values.\n",
        "* This matrix helps in identifying relationships between different factors influencing bike resale prices."
      ],
      "metadata": {
        "id": "DeYviHPv-5Dw"
      }
    },
    {
      "cell_type": "markdown",
      "source": [
        "## EDA 2"
      ],
      "metadata": {
        "id": "AODpOcUWp0Lf"
      }
    },
    {
      "cell_type": "markdown",
      "source": [
        "## Car Sale Dataset"
      ],
      "metadata": {
        "id": "ABKRvI1lp3jd"
      }
    },
    {
      "cell_type": "markdown",
      "source": [
        "##Q 1. What is the average selling price of cars for each dealer, and how does it compare across different dealers?\n",
        "**Ans**-"
      ],
      "metadata": {
        "id": "m-NSeP4-mzoZ"
      }
    },
    {
      "cell_type": "code",
      "source": [
        "import pandas as pd\n",
        "\n",
        "file_path = \"/mnt/data/Car Sale.csv\"\n",
        "df = pd.read_csv(file_path)\n",
        "\n",
        "df.head()"
      ],
      "metadata": {
        "id": "tZYhrxtdkkrk"
      },
      "execution_count": null,
      "outputs": []
    },
    {
      "cell_type": "markdown",
      "source": [
        "**Result**\n",
        "\n",
        "|Car_id | Date | Customer Name | Gender | Annual Income | Dealer_Name | Company | Model | Engine |Transmission | Color | Price ($) | Dealer_No | Body Style | Phone | Dealer_Region |\n",
        "|-||||||||||||||||\n",
        "|\n",
        "| C_CND_000001 | 1/2/2022 | Geraldine | Male | 13500 |Buddy Storbeck's Diesel Service Inc | Ford | Expedition |DoubleÂ Overhead Camshaft | Auto | Black |  26000 | 06457-3834 | SUV | 8264678 | Middletown |\n",
        "| C_CND_000002 | 1/2/2022 | Gia | Male | 1480000 |C & M Motors Inc | Dodge | Durango | DoubleÂ Overhead Camshaft | Auto | Black | 19000 | 60504-7114 | SUV | 6848189 | Aurora |\n",
        "| C_CND_000003 | 1/2/2022 | Gianna | Male | 1035000|Capitol KIA | Cadillac |   Eldorado | Overhead Camshaft | Manual | Red | 31500 | 38701-8047 |  Passenger | 7298798 | Greenville |\n",
        "| C_CND_000004 | 1/2/2022 | Giselle | Male | 13500 |Chrysler of Tri-Cities |  Toyota | Celica | Overhead Camshaft | Manual | Pale White | 14000 | 99301-3882 | SUV | 6257557 | Pasco |\n",
        "| C_CND_000005 | 1/2/2022 | Grace | Male | 1465000 |Chrysler Plymouth | Acura | TL | DoubleÂ Overhead Camshaft | Auto | Red | 24500 | 53546-9427 | Hatchback | 7081483 | Janesville |\n",
        "\n",
        "The dataset contains details about car sales, including dealer names and prices. I'll now calculate the average selling price for each dealer and compare them."
      ],
      "metadata": {
        "id": "w2jLnopblK7P"
      }
    },
    {
      "cell_type": "code",
      "source": [
        "avg_price_per_dealer = df.groupby(\"Dealer_Name\")[\"Price ($)\"].mean().reset_index()\n",
        "\n",
        "avg_price_per_dealer = avg_price_per_dealer.sort_values(by=\"Price ($)\", ascending=False)\n",
        "\n",
        "avg_price_per_dealer.head(10)"
      ],
      "metadata": {
        "id": "AhRnbdWeukjT"
      },
      "execution_count": null,
      "outputs": []
    },
    {
      "cell_type": "markdown",
      "source": [
        "**Result**\n",
        "The top dealers with the highest average selling prices are:\n",
        "\n",
        "1. U-Haul CO - $28,769.92\n",
        "\n",
        "2. Classic Chevy - $28,602.01\n",
        "\n",
        "3. Rabun Used Car Sales - $28,527.54\n",
        "\n",
        "4. Iceberg Rentals - $28,522.96\n",
        "\n",
        "5. Enterprise Rent A Car - $28,312.58\n",
        "\n",
        "6. Scrivener Performance Engineering - $28,297.37\n",
        "\n",
        "7. Gartner Buick Hyundai Saab - $28,247.62\n",
        "\n",
        "8. Saab-Belle Dodge - $28,190.14\n",
        "\n",
        "9. Capitol KIA - $28,189.70\n",
        "\n",
        "10. Race Car Help - $28,163.37\n",
        "\n",
        "There is a relatively small difference in average prices among the top dealers."
      ],
      "metadata": {
        "id": "qUAHvh0gultT"
      }
    },
    {
      "cell_type": "markdown",
      "source": [
        "##Q 2. Which car brand (Company) has the highest variation in prices, and what does this tell us about the pricing trends?\n",
        "**Ans** - calculate the price variation for each car brand and identify which one has the highest variation. This will help us understand which brands have the most inconsistent pricing and potential reasons, such as a mix of budget and luxury models."
      ],
      "metadata": {
        "id": "N_lGphmDoBQT"
      }
    },
    {
      "cell_type": "code",
      "source": [
        "price_variation = df.groupby(\"Company\")[\"Price ($)\"].std().reset_index()\n",
        "\n",
        "price_variation = price_variation.sort_values(by=\"Price ($)\", ascending=False)\n",
        "\n",
        "price_variation.head(10)"
      ],
      "metadata": {
        "id": "I5vXuLaGw2JW"
      },
      "execution_count": null,
      "outputs": []
    },
    {
      "cell_type": "markdown",
      "source": [
        "**Result**\n",
        "The car brands with the highest price variation are:\n",
        "\n",
        "| Company | Price($) |\n",
        "|-||\n",
        "|Lincoln | 19,658.05 |\n",
        "|Saab | 19,653.74 |\n",
        "|Cadillac | 19,517.12 |\n",
        "|Plymouth | 19,065.99 |\n",
        "|Lexus | 17,852.92 |\n",
        "|Buick | 17,142.23 |\n",
        "|Mercury | 16,445.17 |\n",
        "|Nissan | 16,214.26 |\n",
        "|Saturn | 15,990.22 |\n",
        "|Ford | 15,849.09 |\n",
        "\n",
        "* Luxury brands like Lincoln, Cadillac, and Lexus have high price variation, likely due to a mix of premium and standard models with different trims and features.\n",
        "* Saab and Plymouth also show large variations, which might indicate a mix of older and newer models or a mix of economy and high-performance cars.\n",
        "* Ford and Nissan, while known for affordability, also show significant variation, possibly due to offering both economy and premium models."
      ],
      "metadata": {
        "id": "yrG1r7fAw6Qc"
      }
    },
    {
      "cell_type": "markdown",
      "source": [
        "##Q 3. What is the distribution of car prices for each transmission type, and how do the interquartile ranges compare?\n",
        "**Ans** - the distribution of car prices for each transmission type and compare their interquartile ranges. The IQR represents the middle 50% of the data, helping to understand price dispersion. Let me generate the analysis now."
      ],
      "metadata": {
        "id": "SIaleTKEoE5I"
      }
    },
    {
      "cell_type": "code",
      "source": [
        "import matplotlib.pyplot as plt\n",
        "import seaborn as sns\n",
        "\n",
        "plt.figure(figsize=(10, 6))\n",
        "sns.boxplot(x=\"Transmission\", y=\"Price ($)\", data=df)\n",
        "\n",
        "plt.xlabel(\"Transmission Type\")\n",
        "plt.ylabel(\"Car Price ($)\")\n",
        "plt.title(\"Distribution of Car Prices by Transmission Type\")\n",
        "\n",
        "plt.show()\n",
        "\n",
        "iqr_per_transmission = df.groupby(\"Transmission\")[\"Price ($)\"].quantile([0.25, 0.75]).unstack()\n",
        "iqr_per_transmission[\"IQR\"] = iqr_per_transmission[0.75] - iqr_per_transmission[0.25]\n",
        "\n",
        "iqr_per_transmission"
      ],
      "metadata": {
        "id": "i0R4n4L-y6P3"
      },
      "execution_count": null,
      "outputs": []
    },
    {
      "cell_type": "markdown",
      "source": [
        "**Box Plot Interpretation**\n",
        "* The box plot shows that manual transmissions and automatic transmissions have somewhat similar price distributions.\n",
        "* Both transmission types have a broad range of car prices, indicating a mix of economy and luxury models.\n",
        "* Interquartile Range (IQR) Comparison\n",
        "  * Automatic Transmission: IQR = $16,500 (middle 50% of cars are priced between $19,000 and $35,500).\n",
        "\n",
        "  * Manual Transmission: IQR = $17,000 (middle 50% of cars are priced between $17,000 and $34,000).\n",
        "\n",
        "**Observations:**\n",
        "* The IQR values are similar, with manual cars having slightly more variation in pricing.\n",
        "* Automatic cars generally have higher median prices, suggesting they may include more luxury or high-end models.\n",
        "* The price spread suggests that both transmission types include budget-friendly and high-end models, but automatic vehicles might have a broader range."
      ],
      "metadata": {
        "id": "9lBCiOALzKZE"
      }
    },
    {
      "cell_type": "markdown",
      "source": [
        "##Q 4. What is the distribution of car prices across different regions?\n",
        "**Ans** - the distribution of car prices across different dealer regions using a box plot to visualize the variations. This will help in understanding how car prices differ by location."
      ],
      "metadata": {
        "id": "Gik2SP5Ppwsy"
      }
    },
    {
      "cell_type": "code",
      "source": [
        "plt.figure(figsize=(12, 6))\n",
        "sns.boxplot(x=\"Dealer_Region\", y=\"Price ($)\", data=df)\n",
        "plt.xticks(rotation=45)\n",
        "\n",
        "plt.xlabel(\"Dealer Region\")\n",
        "plt.ylabel(\"Car Price ($)\")\n",
        "plt.title(\"Distribution of Car Prices Across Different Regions\")\n",
        "\n",
        "plt.show()"
      ],
      "metadata": {
        "id": "DNMKm7Ve0bVd"
      },
      "execution_count": null,
      "outputs": []
    },
    {
      "cell_type": "markdown",
      "source": [
        "The box plot illustrates the distribution of car prices across different regions. Here are some insights:\n",
        "* Price Variation Across Regions\n",
        "  * Some regions show a wider spread of prices, indicating a mix of budget and luxury vehicles.\n",
        "  * Other regions have a tighter price range, suggesting more uniform pricing.\n",
        "Outliers and Differences\n",
        "  * Some regions have significantly higher-priced outliers, possibly due to luxury or specialty vehicles.\n",
        "\n",
        "The median prices vary across regions, showing regional price differences due to demand, supply, or dealer strategies."
      ],
      "metadata": {
        "id": "elPQboIb0fEE"
      }
    },
    {
      "cell_type": "markdown",
      "source": [
        "##Q 5. What is the distribution of cars based on body styles?\n",
        "**Ans** - the distribution of cars based on their body styles using a bar chart. This will help visualize which body styles are more common in the dataset."
      ],
      "metadata": {
        "id": "OAQ5u1-OqUM3"
      }
    },
    {
      "cell_type": "code",
      "source": [
        "body_style_counts = df[\"Body Style\"].value_counts()\n",
        "\n",
        "plt.figure(figsize=(10, 6))\n",
        "sns.barplot(x=body_style_counts.index, y=body_style_counts.values, palette=\"viridis\")\n",
        "\n",
        "plt.xlabel(\"Body Style\")\n",
        "plt.ylabel(\"Number of Cars\")\n",
        "plt.title(\"Distribution of Cars Based on Body Styles\")\n",
        "plt.xticks(rotation=45)\n",
        "\n",
        "plt.show()"
      ],
      "metadata": {
        "id": "5bMBTGeh1TaN"
      },
      "execution_count": null,
      "outputs": []
    },
    {
      "cell_type": "markdown",
      "source": [
        "The bar chart shows the distribution of cars based on body styles. Here are some insights:\n",
        "* Most Common Body Styles\n",
        "  * Certain body styles are significantly more prevalent than others, indicating market preferences.\n",
        "* Less Common Body Styles\n",
        "  * Some styles have much lower counts, possibly reflecting niche demand or limited availability."
      ],
      "metadata": {
        "id": "Aw9iDV0k1eI9"
      }
    },
    {
      "cell_type": "markdown",
      "source": [
        "##Q 6. How does the average selling price of cars vary by customer gender and annual income?\n",
        "**Ans** - the average selling price of cars varies based on customer gender and annual income."
      ],
      "metadata": {
        "id": "gZyefwD5qwQd"
      }
    },
    {
      "cell_type": "code",
      "source": [
        "avg_price_by_gender = df.groupby(\"Gender\")[\"Price ($)\"].mean()\n",
        "\n",
        "plt.figure(figsize=(10, 6))\n",
        "sns.scatterplot(x=df[\"Annual Income\"], y=df[\"Price ($)\"], hue=df[\"Gender\"], alpha=0.5)\n",
        "\n",
        "plt.xlabel(\"Annual Income ($)\")\n",
        "plt.ylabel(\"Car Price ($)\")\n",
        "plt.title(\"Car Price vs. Annual Income by Gender\")\n",
        "\n",
        "plt.show()\n",
        "\n",
        "avg_price_by_gender"
      ],
      "metadata": {
        "id": "H-zAHmHw2D-t"
      },
      "execution_count": null,
      "outputs": []
    },
    {
      "cell_type": "markdown",
      "source": [
        "**Result**\n",
        "* Average Selling Price($) by Gender\n",
        "  * Females: 28,277.27\n",
        "  * Males: 28,039.43\n",
        "\n",
        "The difference is minimal, suggesting that gender does not significantly impact the price of cars purchased.\n",
        "* Income vs. Car Price Relationship\n",
        "\n",
        "The scatter plot shows a general trend where higher-income customers tend to purchase more expensive cars, though there are variations.\n",
        "Both male and female customers follow a similar trend."
      ],
      "metadata": {
        "id": "lnQDZvvW2OeV"
      }
    },
    {
      "cell_type": "markdown",
      "source": [
        "##Q 7. What is the distribution of car prices by region, and how does the number of cars sold vary by region?\n",
        "**Ans** - The distribution of car prices by region using a box plot.\n",
        "The number of cars sold per region using a bar chart.\n",
        "This will help understand price variations and sales distribution across regions."
      ],
      "metadata": {
        "id": "2kmpAogcrNjs"
      }
    },
    {
      "cell_type": "code",
      "source": [
        "fig, axes = plt.subplots(2, 1, figsize=(12, 10))\n",
        "\n",
        "sns.boxplot(x=\"Dealer_Region\", y=\"Price ($)\", data=df, ax=axes[0])\n",
        "axes[0].set_xlabel(\"Dealer Region\")\n",
        "axes[0].set_ylabel(\"Car Price ($)\")\n",
        "axes[0].set_title(\"Distribution of Car Prices by Region\")\n",
        "axes[0].tick_params(axis='x', rotation=45)\n",
        "\n",
        "region_counts = df[\"Dealer_Region\"].value_counts()\n",
        "sns.barplot(x=region_counts.index, y=region_counts.values, palette=\"viridis\", ax=axes[1])\n",
        "axes[1].set_xlabel(\"Dealer Region\")\n",
        "axes[1].set_ylabel(\"Number of Cars Sold\")\n",
        "axes[1].set_title(\"Number of Cars Sold by Region\")\n",
        "axes[1].tick_params(axis='x', rotation=45)\n",
        "\n",
        "plt.tight_layout()\n",
        "plt.show()"
      ],
      "metadata": {
        "id": "th7tvB4E3F1N"
      },
      "execution_count": null,
      "outputs": []
    },
    {
      "cell_type": "markdown",
      "source": [
        "Insights:\n",
        "* Car Price Distribution by Region (Box Plot)\n",
        "  * Some regions have a wider spread of prices, indicating a mix of budget and luxury vehicles.\n",
        "  * Certain regions show higher median prices, suggesting a preference for premium cars.\n",
        "* Number of Cars Sold by Region (Bar Chart)\n",
        "  * Some regions have significantly higher sales, possibly due to larger populations or dealer networks.\n",
        "  * Other regions have lower sales, which could indicate lower demand or fewer dealerships."
      ],
      "metadata": {
        "id": "4B5E9cWe3OtO"
      }
    },
    {
      "cell_type": "markdown",
      "source": [
        "##Q 8. How does the average car price differ between cars with different engine sizes?\n",
        "Grouping cars by engine type\n",
        "Calculating the average selling price for each engine type\n",
        "Visualizing the differences using a bar chart"
      ],
      "metadata": {
        "id": "071zMpcTrjTn"
      }
    },
    {
      "cell_type": "code",
      "source": [
        "avg_price_by_engine = df.groupby(\"Engine\")[\"Price ($)\"].mean().sort_values(ascending=False)\n",
        "\n",
        "plt.figure(figsize=(12, 6))\n",
        "sns.barplot(x=avg_price_by_engine.index, y=avg_price_by_engine.values, palette=\"magma\")\n",
        "\n",
        "plt.xlabel(\"Engine Type\")\n",
        "plt.ylabel(\"Average Car Price ($)\")\n",
        "plt.title(\"Average Car Price by Engine Type\")\n",
        "plt.xticks(rotation=45)\n",
        "\n",
        "plt.show()\n",
        "\n",
        "avg_price_by_engine"
      ],
      "metadata": {
        "id": "p3r9K-EM3n_2"
      },
      "execution_count": null,
      "outputs": []
    },
    {
      "cell_type": "markdown",
      "source": [
        "**Result**\n",
        "* Double Overhead Camshaft (DOHC) engines have a slightly higher average price at 28,248.53.\n",
        "* Overhead Camshaft (OHC) engines are slightly lower in price, averaging 27,914.71.\n",
        "\n",
        "The difference is minimal, suggesting that engine type alone does not drastically impact car pricing-other factors like brand, model, and trim level might play a bigger role."
      ],
      "metadata": {
        "id": "eAyN3MZa3zQO"
      }
    },
    {
      "cell_type": "markdown",
      "source": [
        "##Q 9. How do car prices vary based on the customer's annual income bracket?\n",
        "**Ans** - Car prices vary based on different customer annual income brackets."
      ],
      "metadata": {
        "id": "TW5SyUKir6qu"
      }
    },
    {
      "cell_type": "code",
      "source": [
        "import pandas as pd\n",
        "\n",
        "file_path = \"/mnt/data/Car Sale.csv\"\n",
        "df = pd.read_csv(file_path)\n",
        "\n",
        "df.head()"
      ],
      "metadata": {
        "id": "f3xY27bu5FGW"
      },
      "execution_count": null,
      "outputs": []
    },
    {
      "cell_type": "markdown",
      "source": [
        "The dataset contains customer annual income and car price details. I'll now categorize customers into income brackets and analyze how car prices vary across these brackets."
      ],
      "metadata": {
        "id": "S2nBBp075PLP"
      }
    },
    {
      "cell_type": "code",
      "source": [
        "import matplotlib.pyplot as plt\n",
        "import seaborn as sns\n",
        "\n",
        "bins = [0, 50000, 100000, 250000, 500000, 1000000, df[\"Annual Income\"].max()]\n",
        "labels = [\"<50K\", \"50K-100K\", \"100K-250K\", \"250K-500K\", \"500K-1M\", \"1M+\"]\n",
        "df[\"Income Bracket\"] = pd.cut(df[\"Annual Income\"], bins=bins, labels=labels, include_lowest=True)\n",
        "\n",
        "plt.figure(figsize=(10, 6))\n",
        "sns.boxplot(x=\"Income Bracket\", y=\"Price ($)\", data=df, order=labels)\n",
        "\n",
        "plt.xlabel(\"Customer Annual Income Bracket\")\n",
        "plt.ylabel(\"Car Price ($)\")\n",
        "plt.title(\"Variation of Car Prices Based on Customer Annual Income\")\n",
        "\n",
        "plt.show()\n",
        "\n",
        "avg_price_per_bracket = df.groupby(\"Income Bracket\")[\"Price ($)\"].mean()\n",
        "avg_price_per_bracket"
      ],
      "metadata": {
        "id": "bOd9lmow4gzu"
      },
      "execution_count": null,
      "outputs": []
    },
    {
      "cell_type": "markdown",
      "source": [
        "* Customers earning 50K-100K purchase the most expensive cars on average (~43,000).\n",
        "* Other income brackets have relatively similar average car prices, ranging from 27,800 to 29,000.\n",
        "* Surprisingly, those earning over 1M don't buy significantly more expensive cars than lower-income brackets."
      ],
      "metadata": {
        "id": "99xqr5hr5h_X"
      }
    },
    {
      "cell_type": "markdown",
      "source": [
        "##Q 10. What are the top 5 car models with the highest number of sales, and how does their price distribution look?"
      ],
      "metadata": {
        "id": "Nn_TGC59sRwu"
      }
    },
    {
      "cell_type": "code",
      "source": [
        "top_models = df[\"Model\"].value_counts().head(5).index\n",
        "\n",
        "top_models_df = df[df[\"Model\"].isin(top_models)]\n",
        "\n",
        "plt.figure(figsize=(12, 6))\n",
        "sns.boxplot(x=\"Model\", y=\"Price ($)\", data=top_models_df, order=top_models)\n",
        "\n",
        "plt.xlabel(\"Car Model\")\n",
        "plt.ylabel(\"Car Price ($)\")\n",
        "plt.title(\"Price Distribution of Top 5 Best-Selling Car Models\")\n",
        "\n",
        "plt.show()\n",
        "\n",
        "df[\"Model\"].value_counts().head(5)"
      ],
      "metadata": {
        "id": "jRNZtDzT6Jn_"
      },
      "execution_count": null,
      "outputs": []
    },
    {
      "cell_type": "markdown",
      "source": [
        "**Top 5 Best-Selling Car Models:**\n",
        "1. Diamante - 418 sales\n",
        "2. Silhouette - 411 sales\n",
        "3. Prizm - 411 sales\n",
        "4. Passat - 391 sales\n",
        "5. Ram Pickup - 383 sales\n",
        "\n",
        "**Price Distribution:**\n",
        "* The boxplot shows how prices vary for each model.\n",
        "* Some models have a wider range of prices, suggesting different trim levels or configurations."
      ],
      "metadata": {
        "id": "WuWOqEqh6OdW"
      }
    },
    {
      "cell_type": "markdown",
      "source": [
        "##Q 11. How does car price vary with engine size across different car colors, and which colors have the highest price variation?\n"
      ],
      "metadata": {
        "id": "eUOkrWptskdl"
      }
    },
    {
      "cell_type": "code",
      "source": [
        "price_variation_by_color = df.groupby(\"Color\")[\"Price ($)\"].std().sort_values(ascending=False)\n",
        "\n",
        "plt.figure(figsize=(12, 6))\n",
        "sns.barplot(x=price_variation_by_color.index, y=price_variation_by_color.values, palette=\"viridis\")\n",
        "\n",
        "plt.xlabel(\"Car Color\")\n",
        "plt.ylabel(\"Price Variation (Standard Deviation)\")\n",
        "plt.title(\"Price Variation Across Different Car Colors\")\n",
        "\n",
        "plt.xticks(rotation=45)\n",
        "plt.show()\n",
        "\n",
        "price_variation_by_color.head(5)"
      ],
      "metadata": {
        "id": "guGy1-ZW7OOo"
      },
      "execution_count": null,
      "outputs": []
    },
    {
      "cell_type": "markdown",
      "source": [
        "**Colors with the Highest Price Variation:**\n",
        "1. Red - 15,519.36\n",
        "2. Black - 15,286.07\n",
        "3. Pale White - 14,077.35\n",
        "\n",
        "These colors have the widest range of car prices, likely due to a mix of luxury and budget models."
      ],
      "metadata": {
        "id": "oyzZjNIE7bYp"
      }
    },
    {
      "cell_type": "markdown",
      "source": [
        "##Q 12. Is there any seasonal trend in car sales based on the date of sale?"
      ],
      "metadata": {
        "id": "cmvKgR4As6Gj"
      }
    },
    {
      "cell_type": "code",
      "source": [
        "df[\"Date\"] = pd.to_datetime(df[\"Date\"], errors='coerce')\n",
        "\n",
        "df[\"Month\"] = df[\"Date\"].dt.month\n",
        "df[\"Year\"] = df[\"Date\"].dt.year\n",
        "\n",
        "monthly_sales = df.groupby(\"Month\")[\"Car_id\"].count()\n",
        "\n",
        "plt.figure(figsize=(10, 5))\n",
        "sns.lineplot(x=monthly_sales.index, y=monthly_sales.values, marker=\"o\")\n",
        "\n",
        "plt.xlabel(\"Month\")\n",
        "plt.ylabel(\"Number of Cars Sold\")\n",
        "plt.title(\"Seasonal Trend in Car Sales\")\n",
        "\n",
        "plt.xticks(ticks=range(1, 13), labels=[\"Jan\", \"Feb\", \"Mar\", \"Apr\", \"May\", \"Jun\",\n",
        "                                       \"Jul\", \"Aug\", \"Sep\", \"Oct\", \"Nov\", \"Dec\"])\n",
        "plt.grid(True)\n",
        "plt.show()\n",
        "\n",
        "monthly_sales"
      ],
      "metadata": {
        "id": "eTDKRPDs8N9R"
      },
      "execution_count": null,
      "outputs": []
    },
    {
      "cell_type": "markdown",
      "source": [
        "**Seasonal Trends in Car Sales:**\n",
        "* Highest Sales Months:\n",
        "  * December (3,546 cars sold) and November (3,470 cars sold) show the highest sales, likely due to holiday deals and year-end discounts.\n",
        "  * September (3,305 cars sold) also has a sales peak, possibly due to new model releases.\n",
        "* Lowest Sales Months:\n",
        "  * January (790 cars sold) and February (735 cars sold) have the lowest sales, likely due to post-holiday financial constraints.\n",
        "* Mid-Year Growth:\n",
        "  * Sales gradually rise from March to August, indicating a steady demand increase."
      ],
      "metadata": {
        "id": "rkUEYRNS8cPk"
      }
    },
    {
      "cell_type": "markdown",
      "source": [
        "##Q 13. How does the car price distribution change when considering different combinations of body style and transmission type?"
      ],
      "metadata": {
        "id": "vjVsvXZItKzz"
      }
    },
    {
      "cell_type": "code",
      "source": [
        "plt.figure(figsize=(14, 6))\n",
        "\n",
        "sns.boxplot(x=\"Body Style\", y=\"Price ($)\", hue=\"Transmission\", data=df)\n",
        "\n",
        "plt.xlabel(\"Body Style\")\n",
        "plt.ylabel(\"Car Price ($)\")\n",
        "plt.title(\"Price Distribution by Body Style and Transmission Type\")\n",
        "\n",
        "plt.xticks(rotation=45)\n",
        "plt.legend(title=\"Transmission Type\")\n",
        "\n",
        "plt.show()"
      ],
      "metadata": {
        "id": "VIQ1Huay8-Co"
      },
      "execution_count": null,
      "outputs": []
    },
    {
      "cell_type": "markdown",
      "source": [
        "**Price Distribution:**\n",
        "* SUVs and Passenger cars show the widest price range, indicating a mix of budget and luxury options.\n",
        "* Manual transmission vehicles generally have lower prices across all body styles.\n",
        "* Automatic transmission cars tend to be more expensive, particularly in SUVs and Passenger cars.\n",
        "* Hatchbacks and Convertibles have a more concentrated price distribution, suggesting fewer extreme price variations."
      ],
      "metadata": {
        "id": "5YyX86Pg9HTo"
      }
    },
    {
      "cell_type": "markdown",
      "source": [
        "##Q 14. What is the correlation between car price, engine size, and annual income of customers, and how do these features interact?\n"
      ],
      "metadata": {
        "id": "55oy0MaVtZ9u"
      }
    },
    {
      "cell_type": "code",
      "source": [
        "import seaborn as sns\n",
        "import matplotlib.pyplot as plt\n",
        "\n",
        "correlation = df[[\"Price ($)\", \"Annual Income\"]].corr()\n",
        "\n",
        "plt.figure(figsize=(6, 4))\n",
        "sns.heatmap(correlation, annot=True, cmap=\"coolwarm\", fmt=\".2f\")\n",
        "\n",
        "plt.title(\"Correlation Between Car Price and Annual Income\")\n",
        "\n",
        "plt.show()\n",
        "\n",
        "plt.figure(figsize=(8, 5))\n",
        "sns.scatterplot(x=df[\"Annual Income\"], y=df[\"Price ($)\"], alpha=0.5)\n",
        "\n",
        "plt.xlabel(\"Annual Income ($)\")\n",
        "plt.ylabel(\"Car Price ($)\")\n",
        "plt.title(\"Interaction Between Annual Income and Car Price\")\n",
        "\n",
        "plt.show()\n",
        "\n",
        "correlation"
      ],
      "metadata": {
        "id": "N0GzkgDq-scz"
      },
      "execution_count": null,
      "outputs": []
    },
    {
      "cell_type": "markdown",
      "source": [
        "Correlation:\n",
        "* The correlation between car price and annual income is very weak (0.012), indicating almost no linear relationship.\n",
        "* The scatter plot shows no clear trend, meaning people across all income levels tend to buy cars in a similar price range.\n",
        "* This suggests customer preferences, financing options, or other factors (like brand loyalty) may play a bigger role in car purchases than income alone."
      ],
      "metadata": {
        "id": "y5Tb7cGa--LE"
      }
    },
    {
      "cell_type": "markdown",
      "source": [
        "##Q 15. How does the average car price vary across different car models and engine types?"
      ],
      "metadata": {
        "id": "-Ewx-Pzdtrj0"
      }
    },
    {
      "cell_type": "code",
      "source": [
        "avg_price_model_engine = df.groupby([\"Model\", \"Engine\"])[\"Price ($)\"].mean().reset_index()\n",
        "\n",
        "avg_price_model_engine = avg_price_model_engine.sort_values(by=\"Price ($)\", ascending=False)\n",
        "\n",
        "plt.figure(figsize=(14, 6))\n",
        "sns.barplot(x=\"Model\", y=\"Price ($)\", hue=\"Engine\", data=avg_price_model_engine.head(15))\n",
        "\n",
        "plt.xlabel(\"Car Model\")\n",
        "plt.ylabel(\"Average Price ($)\")\n",
        "plt.title(\"Top 15 Car Models by Average Price Across Engine Types\")\n",
        "plt.xticks(rotation=45)\n",
        "plt.legend(title=\"Engine Type\")\n",
        "\n",
        "plt.show()\n",
        "\n",
        "avg_price_model_engine.head(10)"
      ],
      "metadata": {
        "id": "MYDXx1P3_cb0"
      },
      "execution_count": null,
      "outputs": []
    },
    {
      "cell_type": "markdown",
      "source": [
        "* The SC model (Overhead Camshaft) has the highest average price at 61,074.\n",
        "* The Ranger (Double Overhead Camshaft) follows closely at 61,064.\n",
        "* Luxury models like LX470, LS400, and GS400 have high average prices, suggesting premium features.\n",
        "* Overhead Camshaft engines dominate the higher price range, possibly due to being in luxury or performance models."
      ],
      "metadata": {
        "id": "19DMsy3E_n2m"
      }
    },
    {
      "cell_type": "markdown",
      "source": [
        "#EDA 3"
      ],
      "metadata": {
        "id": "Byqp7ukut-Sz"
      }
    },
    {
      "cell_type": "markdown",
      "source": [
        "## Amazon sale"
      ],
      "metadata": {
        "id": "mMFeoTkcuCBL"
      }
    },
    {
      "cell_type": "markdown",
      "source": [
        "##Q 1. What is the average rating for each product category?\n",
        "**Ans** - The dataset contains 1,465 entries with 16 columns. The relevant columns for calculating the average rating per category are:\n",
        "* category: Contains product categories, but they are separated by | (pipe) symbols.\n",
        "* rating: Stored as a string, needs conversion to numeric."
      ],
      "metadata": {
        "id": "RDWSnmfDuQjF"
      }
    },
    {
      "cell_type": "code",
      "source": [
        "import pandas as pd\n",
        "\n",
        "file_path = \"/mnt/data/amazon.csv\"\n",
        "df = pd.read_csv(file_path)\n",
        "\n",
        "df.info(), df.head()\n",
        "\n",
        "df[\"category\"] = df[\"category\"].apply(lambda x: x.split(\"|\")[0] if isinstance(x, str) else x)\n",
        "\n",
        "df[\"rating\"] = pd.to_numeric(df[\"rating\"], errors=\"coerce\")\n",
        "\n",
        "avg_ratings = df.groupby(\"category\")[\"rating\"].mean().sort_values(ascending=False)\n",
        "\n",
        "avg_ratings"
      ],
      "metadata": {
        "id": "pEpWetkhxBg1"
      },
      "execution_count": null,
      "outputs": []
    },
    {
      "cell_type": "markdown",
      "source": [
        "Here are the average ratings for each product category:\n",
        "1. Office Products - 4.31\n",
        "2. Toys & Games - 4.30\n",
        "3. Home Improvement - 4.25\n",
        "4. Computers & Accessories - 4.15\n",
        "5. Electronics - 4.08\n",
        "6. Home & Kitchen - 4.04\n",
        "7. Health & Personal Care - 4.00\n",
        "8. Musical Instruments - 3.90\n",
        "9. Car & Motorbike - 3.80"
      ],
      "metadata": {
        "id": "u_dgkrd-yYV1"
      }
    },
    {
      "cell_type": "markdown",
      "source": [
        "##Q 2. What are the top rating_count products by category?"
      ],
      "metadata": {
        "id": "Zy9LCoawuyJH"
      }
    },
    {
      "cell_type": "code",
      "source": [
        "df[\"rating_count\"] = df[\"rating_count\"].astype(str).str.replace(\",\", \"\").astype(float)\n",
        "\n",
        "top_products_by_category = df.loc[df.groupby(\"category\")[\"rating_count\"].idxmax(), [\"category\", \"product_name\", \"rating_count\"]]\n",
        "top_products_by_category = top_products_by_category.sort_values(by=\"rating_count\", ascending=False)\n",
        "top_products_by_category.head(10)"
      ],
      "metadata": {
        "id": "FuVu8urqy6wu"
      },
      "execution_count": null,
      "outputs": []
    },
    {
      "cell_type": "markdown",
      "source": [
        "Here are the top-rated products by rating count in each category:\n",
        "1. Car & Motorbike - Reffair AX30 [MAX] Portable Air Purifier (1,118 ratings)\n",
        "2. Computers & Accessories - SanDisk Cruzer Blade 32GB USB Flash Drive (253,105 ratings)\n",
        "3. Electronics – AmazonBasics Flexible Premium HDMI Cable (426,973 ratings)\n",
        "4. Health & Personal Care – Dr Trust Electronic Kitchen Digital Scale (3,663 ratings)\n",
        "5. Home & Kitchen – Pigeon Polypropylene Mini Handy Chopper (270,563 ratings)\n",
        "6. Home Improvement – Gizga Essentials Cable Organiser (5,985 ratings)\n",
        "7. Musical Instruments – Boya ByM1 Omnidirectional Lavalier Microphone (68,664 ratings)\n",
        "8. Office Products – Casio FX-82MS 2nd Gen Scientific Calculator (12,179 ratings)\n",
        "9. Toys & Games – Faber-Castell Connector Pen Set - Pack of 25 (15,867 ratings)"
      ],
      "metadata": {
        "id": "oGHMEiL3zKqu"
      }
    },
    {
      "cell_type": "markdown",
      "source": [
        "##Q 3. What is the distribution of discounted prices vs. actual prices?\n",
        "**Ans** - The discounted_price and actual_price columns contain currency symbols (₹).\n"
      ],
      "metadata": {
        "id": "gYqSS1X-vD40"
      }
    },
    {
      "cell_type": "code",
      "source": [
        "import matplotlib.pyplot as plt\n",
        "import seaborn as sns\n",
        "\n",
        "df[\"discounted_price\"] = df[\"discounted_price\"].astype(str).str.replace(\"[₹,]\", \"\", regex=True).astype(float)\n",
        "df[\"actual_price\"] = df[\"actual_price\"].astype(str).str.replace(\"[₹,]\", \"\", regex=True).astype(float)\n",
        "\n",
        "plt.figure(figsize=(10, 6))\n",
        "sns.kdeplot(df[\"actual_price\"], label=\"Actual Price\", fill=True, color=\"red\", alpha=0.4)\n",
        "sns.kdeplot(df[\"discounted_price\"], label=\"Discounted Price\", fill=True, color=\"blue\", alpha=0.4)\n",
        "plt.xlabel(\"Price (INR)\")\n",
        "plt.ylabel(\"Density\")\n",
        "plt.title(\"Distribution of Discounted Prices vs. Actual Prices\")\n",
        "plt.legend()\n",
        "plt.xlim(0, df[\"actual_price\"].quantile(0.99))\n",
        "plt.show()"
      ],
      "metadata": {
        "id": "GvmvYM382wab"
      },
      "execution_count": null,
      "outputs": []
    },
    {
      "cell_type": "markdown",
      "source": [
        "##Q 4. How does the average discount percentage vary across categories?"
      ],
      "metadata": {
        "id": "vuVKcJqwvlYk"
      }
    },
    {
      "cell_type": "code",
      "source": [
        "df[\"discount_percentage\"] = df[\"discount_percentage\"].str.replace(\"%\", \"\").astype(float)\n",
        "\n",
        "avg_discounts = df.groupby(\"category\")[\"discount_percentage\"].mean().sort_values(ascending=False)\n",
        "\n",
        "avg_discounts"
      ],
      "metadata": {
        "id": "5Qt6LryY3Q0r"
      },
      "execution_count": null,
      "outputs": []
    },
    {
      "cell_type": "markdown",
      "source": [
        "Here is the average discount percentage across categories:\n",
        "1. Home Improvement – 57.50%\n",
        "2. Computers & Accessories – 54.02%\n",
        "3. Health & Personal Care – 53.00%\n",
        "4. Electronics – 50.83%\n",
        "5. Musical Instruments – 46.00%\n",
        "6. Car & Motorbike – 42.00%\n",
        "7. Home & Kitchen – 40.12%\n",
        "8. Office Products – 12.35%\n",
        "9. Toys & Games – 0.00% (no discounts recorded)"
      ],
      "metadata": {
        "id": "4l6NixGfEOt_"
      }
    },
    {
      "cell_type": "markdown",
      "source": [
        "##Q 5. What are the most popular product names?\n",
        "\n",
        "To find the most popular product names, we can use the rating count as a measure of popularity. The steps to do this are:\n",
        "1. Sort products by rating_count (after converting it to numeric).\n",
        "2. List the top products with the highest number of ratings.\n",
        "\n",
        "Since I can't run the code right now, you can try the following Python snippet yourself:\n",
        "\n",
        "**Python Code to Find Most Popular Products**"
      ],
      "metadata": {
        "id": "qCdJfu-Nvx_s"
      }
    },
    {
      "cell_type": "code",
      "source": [
        "import pandas as pd\n",
        "\n",
        "file_path = \"path_to_your_file.csv\"\n",
        "df = pd.read_csv(file_path)\n",
        "\n",
        "df[\"rating_count\"] = df[\"rating_count\"].astype(str).str.replace(\",\", \"\").astype(float)\n",
        "\n",
        "most_popular_products = df.sort_values(by=\"rating_count\", ascending=False)[[\"product_name\", \"rating_count\"]].head(10)\n",
        "\n",
        "print(most_popular_products)"
      ],
      "metadata": {
        "id": "PoFatcBg3mW5"
      },
      "execution_count": null,
      "outputs": []
    },
    {
      "cell_type": "markdown",
      "source": [
        "Here are the most popular products based on the highest rating count:\n",
        "1. AmazonBasics Flexible Premium HDMI Cable – 426,973 ratings\n",
        "2. Amazon Basics High-Speed HDMI Cable (6 Feet, Multiple Listings) – 426,973 ratings\n",
        "3. boAt Bassheads 100 In-Ear Wired Earphones – 363,713 ratings\n",
        "4. Redmi 9 Activ (Carbon Black, 4GB RAM, 64GB Storage) – 313,836 ratings\n",
        "5. Redmi 9A Sport (Multiple Colors, 2GB RAM, 32GB Storage) – 313,836 ratings"
      ],
      "metadata": {
        "id": "5Qj2PHV8E74c"
      }
    },
    {
      "cell_type": "markdown",
      "source": [
        "##Q 6. What are the most popular product keywords?\n"
      ],
      "metadata": {
        "id": "r_x2lZcOv9n0"
      }
    },
    {
      "cell_type": "code",
      "source": [
        "import pandas as pd\n",
        "from collections import Counter\n",
        "import re\n",
        "\n",
        "file_path = \"path_to_your_file.csv\"\n",
        "df = pd.read_csv(file_path)\n",
        "\n",
        "df[\"rating_count\"] = df[\"rating_count\"].astype(str).str.replace(\",\", \"\").astype(float)\n",
        "popular_products = df.sort_values(by=\"rating_count\", ascending=False)[\"product_name\"].dropna()\n",
        "\n",
        "stop_words = {\"for\", \"with\", \"and\", \"in\", \"on\", \"the\", \"to\", \"of\", \"by\", \"a\", \"an\", \"at\"}\n",
        "words = [word.lower() for name in popular_products for word in re.findall(r\"\\b\\w+\\b\", name) if word.lower() not in stop_words]\n",
        "\n",
        "word_counts = Counter(words)\n",
        "\n",
        "most_common_keywords = word_counts.most_common(20)\n",
        "\n",
        "print(most_common_keywords)"
      ],
      "metadata": {
        "id": "gsDhmx_54MmA"
      },
      "execution_count": null,
      "outputs": []
    },
    {
      "cell_type": "markdown",
      "source": [
        "Here are the most popular product keywords based on their frequency in product names:\n",
        "1. with – 752 occurrences\n",
        "2. for – 674 occurrences\n",
        "3. black – 530 occurrences\n",
        "4. USB – 417 occurrences\n",
        "5. cable – 414 occurrences\n",
        "6. charging – 247 occurrences\n",
        "7. type (as in \"Type-C\") – 243 occurrences\n",
        "8. smart (as in \"smart TV\" or \"smartphone\") – 175 occurrences\n",
        "9. TV – 152 occurrences\n",
        "10. compatible – 146 occurrences\n"
      ],
      "metadata": {
        "id": "5rBkr_6AFYTo"
      }
    },
    {
      "cell_type": "markdown",
      "source": [
        "##Q 7. What are the most popular product reviews?"
      ],
      "metadata": {
        "id": "dzyn1zuKwJjk"
      }
    },
    {
      "cell_type": "code",
      "source": [
        "import pandas as pd\n",
        "\n",
        "file_path = \"path_to_your_file.csv\"\n",
        "df = pd.read_csv(file_path)\n",
        "df[\"rating_count\"] = df[\"rating_count\"].astype(str).str.replace(\",\", \"\").astype(float)\n",
        "\n",
        "most_popular_reviews = df.sort_values(by=\"rating_count\", ascending=False)[[\"product_name\", \"review_title\", \"review_content\", \"rating_count\"]].head(10)\n",
        "\n",
        "print(most_popular_reviews)"
      ],
      "metadata": {
        "id": "1YVZU9m04qkX"
      },
      "execution_count": null,
      "outputs": []
    },
    {
      "cell_type": "markdown",
      "source": [
        "Here are some of the most popular product reviews, based on the highest rating count:\n",
        "1. AmazonBasics Flexible Premium HDMI Cable (426,973 ratings)\n",
        "  * Review: \"It's quite good and value for money. Works well...\"\n",
        "  * Content: \"I am using it for 14 days now. The experience has been great...\"\n",
        "2. boAt Bassheads 100 In-Ear Wired Earphones (363,713 ratings)\n",
        "  * Review: \"Best value for money. HEAD PHONE POUCH NOT RECEIVED...\"\n",
        "  * Content: \"The sound quality of this earphone is really good...\"\n",
        "3. Redmi 9A Sport (Carbon Black, 2GB RAM, 32GB Storage) (313,836 ratings)\n",
        "  * Review: \"Best phone for below normal use...\"\n",
        "  * Content: \"If you want a smartphone for just basic use, this is a good option...\""
      ],
      "metadata": {
        "id": "VsMq2O9t4t8b"
      }
    },
    {
      "cell_type": "markdown",
      "source": [
        "##Q 8. What is the correlation between discounted_price and rating?"
      ],
      "metadata": {
        "id": "VKM1_gy_wU52"
      }
    },
    {
      "cell_type": "code",
      "source": [
        "import pandas as pd\n",
        "import seaborn as sns\n",
        "import matplotlib.pyplot as plt\n",
        "\n",
        "file_path = \"path_to_your_file.csv\"\n",
        "df = pd.read_csv(file_path)\n",
        "\n",
        "df[\"discounted_price\"] = df[\"discounted_price\"].astype(str).str.replace(\"[₹,]\", \"\", regex=True).astype(float)\n",
        "df[\"rating\"] = pd.to_numeric(df[\"rating\"], errors=\"coerce\")\n",
        "\n",
        "correlation = df[\"discounted_price\"].corr(df[\"rating\"])\n",
        "print(f\"Correlation between discounted price and rating: {correlation:.2f}\")\n",
        "\n",
        "plt.figure(figsize=(8, 5))\n",
        "sns.scatterplot(x=df[\"discounted_price\"], y=df[\"rating\"], alpha=0.5)\n",
        "plt.xlabel(\"Discounted Price (INR)\")\n",
        "plt.ylabel(\"Rating\")\n",
        "plt.title(\"Correlation between Discounted Price and Rating\")\n",
        "plt.show()"
      ],
      "metadata": {
        "id": "8TR-EgfF5HYZ"
      },
      "execution_count": null,
      "outputs": []
    },
    {
      "cell_type": "markdown",
      "source": [
        "The correlation between discounted price and rating is 0.12, which is a weak positive correlation.\n",
        "\n",
        "This suggests that higher or lower discounts do not significantly influence product ratings—other factors like product quality and brand reputation likely play a bigger role."
      ],
      "metadata": {
        "id": "zppWKVqu5Nki"
      }
    },
    {
      "cell_type": "markdown",
      "source": [
        "##Q 9. What are the Top 5 categories based on the highest ratings?"
      ],
      "metadata": {
        "id": "h7EBcMVBwej8"
      }
    },
    {
      "cell_type": "code",
      "source": [
        "import pandas as pd\n",
        "\n",
        "file_path = \"path_to_your_file.csv\"\n",
        "df = pd.read_csv(file_path)\n",
        "df[\"rating\"] = pd.to_numeric(df[\"rating\"], errors=\"coerce\")\n",
        "\n",
        "top_categories = df.groupby(\"category\")[\"rating\"].mean().reset_index()\n",
        "top_categories = top_categories.sort_values(by=\"rating\", ascending=False).head(5)\n",
        "\n",
        "print(top_categories)"
      ],
      "metadata": {
        "id": "U4PR472A5ti_"
      },
      "execution_count": null,
      "outputs": []
    },
    {
      "cell_type": "markdown",
      "source": [
        "The Top 5 categories based on the highest average ratings are:\n",
        "\n",
        "1. Office Products – 4.31 ratings\n",
        "2. Toys & Games – 4.30 ratings\n",
        "3. Home Improvement – 4.25 ratings\n",
        "4. Computers & Accessories – 4.15 ratings\n",
        "5. Electronics – 4.08 ratings"
      ],
      "metadata": {
        "id": "udgSNEwn5wzT"
      }
    },
    {
      "cell_type": "markdown",
      "source": [
        "##Q 10. Identify any potential areas for improvement or optimization based on the data analysis.\n",
        "Based on the data analysis, here are potential areas for improvement and optimization:\n",
        "1. Optimize Discounts for Low-Rated Categories\n",
        "  * Categories like Musical Instruments (3.90) and Car & Motorbike (3.80) have lower average ratings.\n",
        "  * Consider improving product quality, customer support, or adjusting discount strategies to attract more positive reviews.\n",
        "2. Enhance Customer Experience for High-Rating but Low-Sales Categories\n",
        "  * Office Products (4.31) and Toys & Games (4.30) have the highest ratings, but they may not be top-selling categories.\n",
        "  * Increasing marketing efforts for these well-rated categories could drive more sales.\n",
        "3. Improve Product Listings with Popular Keywords\n",
        "  * Common keywords like \"USB,\" \"charging,\" \"cable,\" \"smart,\" and \"TV\" dominate product names.\n",
        "  * Optimizing product descriptions and titles using these keywords could improve search rankings and visibility.\n",
        "4. Leverage Top-Rated Products for Promotions\n",
        "  * The AmazonBasics HDMI Cable and boAt Bassheads Earphones have massive review counts.\n",
        "  * Featuring these products in promotions or bundling them with related items could boost sales further.\n",
        "5. Re-evaluate Categories with Low Discounts\n",
        "  * Toys & Games have a 0% discount on average, yet they have high ratings.\n",
        "  * Introducing strategic discounts in this category could increase sales volume."
      ],
      "metadata": {
        "id": "pjG7SneEwj7_"
      }
    },
    {
      "cell_type": "markdown",
      "source": [
        "#EDA 4"
      ],
      "metadata": {
        "id": "43thr91h7RM-"
      }
    },
    {
      "cell_type": "markdown",
      "source": [
        "##Spotify Data:Popular Hip-Hop Artists and Tracks"
      ],
      "metadata": {
        "id": "t52IjkkpyAKe"
      }
    },
    {
      "cell_type": "markdown",
      "source": [
        "##Q 1. Read the data frame, check the null value if present then do the needful, and check duplicate row, if present then do the needful\n"
      ],
      "metadata": {
        "id": "RSt5B6t57Tj-"
      }
    },
    {
      "cell_type": "code",
      "source": [
        "spotify_file_path = \"/mnt/data/spotify.csv\"\n",
        "spotify_df = pd.read_csv(spotify_file_path)\n",
        "\n",
        "null_values = spotify_df.isnull().sum()\n",
        "\n",
        "duplicate_rows = spotify_df.duplicated().sum()\n",
        "\n",
        "null_values, duplicate_rows"
      ],
      "metadata": {
        "id": "n6N62dXHBeYI"
      },
      "execution_count": null,
      "outputs": []
    },
    {
      "cell_type": "markdown",
      "source": [
        "Data Quality Check Results:\n",
        "* No missing (null) values found in any column.\n",
        "* 27 duplicate rows detected."
      ],
      "metadata": {
        "id": "z8uh0P2kB8Wv"
      }
    },
    {
      "cell_type": "code",
      "source": [
        "spotify_df_cleaned = spotify_df.drop_duplicates()\n",
        "\n",
        "cleaned_duplicate_count = spotify_df_cleaned.duplicated().sum()\n",
        "\n",
        "cleaned_duplicate_count"
      ],
      "metadata": {
        "id": "utptalsHKAQj"
      },
      "execution_count": null,
      "outputs": []
    },
    {
      "cell_type": "markdown",
      "source": [
        "##Q 2. What is the distribution of popularity among the tracks in the dataset? Visualize it using a histogram."
      ],
      "metadata": {
        "id": "tFYrDnRl98lm"
      }
    },
    {
      "cell_type": "code",
      "source": [
        "import matplotlib.pyplot as plt\n",
        "import seaborn as sns\n",
        "\n",
        "sns.set_style(\"whitegrid\")\n",
        "\n",
        "plt.figure(figsize=(10, 6))\n",
        "sns.histplot(df[\"Popularity\"], bins=30, kde=True, color=\"blue\")\n",
        "\n",
        "plt.xlabel(\"Popularity\")\n",
        "plt.ylabel(\"Frequency\")\n",
        "plt.title(\"Distribution of Popularity Among Tracks\")\n",
        "\n",
        "plt.show()"
      ],
      "metadata": {
        "id": "AyZOaY-zKCns"
      },
      "execution_count": null,
      "outputs": []
    },
    {
      "cell_type": "markdown",
      "source": [
        "Here's the distribution of track popularity in the dataset:\n",
        "* The popularity scores appear to be right-skewed, meaning most tracks have lower popularity, while only a few have very high scores.\n",
        "* The peak occurs in the lower to mid-range popularity scores."
      ],
      "metadata": {
        "id": "JD8A4Z9FKIIQ"
      }
    },
    {
      "cell_type": "markdown",
      "source": [
        "##Q 3. Is there any relationship between the popularity and the duration of tracks? Explore this using a scatter plot."
      ],
      "metadata": {
        "id": "E40uRf1T-cu-"
      }
    },
    {
      "cell_type": "code",
      "source": [
        "plt.figure(figsize=(10, 6))\n",
        "sns.scatterplot(x=df[\"Duration (ms)\"], y=df[\"Popularity\"], alpha=0.5, color=\"blue\")\n",
        "\n",
        "plt.xlabel(\"Duration (ms)\")\n",
        "plt.ylabel(\"Popularity\")\n",
        "plt.title(\"Scatter Plot of Track Duration vs. Popularity\")\n",
        "\n",
        "plt.show()"
      ],
      "metadata": {
        "id": "aPOruzwnKQV5"
      },
      "execution_count": null,
      "outputs": []
    },
    {
      "cell_type": "markdown",
      "source": [
        "Here's the scatter plot showing the relationship between track duration and popularity:\n",
        "* There does not appear to be a strong correlation between duration and popularity.\n",
        "* Tracks of varying durations can be both popular and unpopular, meaning track length alone is not a key factor in determining popularity.\n",
        "* Most tracks seem to fall within a specific duration range (likely between 2-5 minutes)."
      ],
      "metadata": {
        "id": "WQ3_pSa0KTTb"
      }
    },
    {
      "cell_type": "markdown",
      "source": [
        "##Q 4. Which artist has the highest number of tracks in the dataset? Display the count of tracks for each artist using a countplot."
      ],
      "metadata": {
        "id": "Gcd7LIPK-y6Q"
      }
    },
    {
      "cell_type": "code",
      "source": [
        "artist_track_counts = spotify_df_cleaned[\"Artist Name\"].value_counts().head(10)\n",
        "\n",
        "plt.figure(figsize=(12, 6))\n",
        "sns.barplot(x=artist_track_counts.index, y=artist_track_counts.values, palette=\"Blues_r\")\n",
        "\n",
        "plt.xlabel(\"Artist Name\")\n",
        "plt.ylabel(\"Number of Tracks\")\n",
        "plt.title(\"Top 10 Artists with the Most Tracks in the Dataset\")\n",
        "plt.xticks(rotation=45, ha=\"right\")\n",
        "\n",
        "plt.show()"
      ],
      "metadata": {
        "id": "Eh6_J4eMKyUT"
      },
      "execution_count": null,
      "outputs": []
    },
    {
      "cell_type": "markdown",
      "source": [
        "Here is the Top 10 artists with the most tracks in the dataset.\n",
        "* Some artists dominate the dataset with significantly more tracks than others.\n",
        "* This could indicate popular artists or bias in dataset composition."
      ],
      "metadata": {
        "id": "aak1cEu4K3m_"
      }
    },
    {
      "cell_type": "markdown",
      "source": [
        "##Q 5. What are the top 5 least popular tracks in the dataset? Provide the artist name and track name for each."
      ],
      "metadata": {
        "id": "oyXufWoH_LF-"
      }
    },
    {
      "cell_type": "code",
      "source": [
        "least_popular_tracks = df.nsmallest(5, \"Popularity\")[[\"Artist\", \"Track Name\", \"Popularity\"]]\n",
        "\n",
        "least_popular_tracks"
      ],
      "metadata": {
        "id": "XZKyH-gpLEBL"
      },
      "execution_count": null,
      "outputs": []
    },
    {
      "cell_type": "markdown",
      "source": [
        "**Result**\n",
        "\n",
        "|S.No. |Artist |Track Name  |Popularity|\n",
        "|-||||\n",
        "|207| Pressa | Attachments (feat. Coi Leray) | 29 |\n",
        "|231| Justin Bieber | Intentions | 35 |\n",
        "|413| French Montana | Splash Brothers | 44 |\n",
        "|225| Lil Baby | On Me - Remix | 47 |\n",
        "|407| Wyclef Jean | 911 (feat. Mary J. Blige) | 48 |\n",
        "\n",
        "Here are the top 5 least popular tracks in the dataset:\n",
        "1. Pressa – Attachments (feat. Coi Leray) (Popularity: 29)\n",
        "2. Justin Bieber – Intentions (Popularity: 35)\n",
        "3. French Montana – Splash Brothers (Popularity: 44)\n",
        "4. Lil Baby – On Me - Remix (Popularity: 47)\n",
        "5. Wyclef Jean – 911 (feat. Mary J. Blige) (Popularity: 48)"
      ],
      "metadata": {
        "id": "LZOV0jgeLIcD"
      }
    },
    {
      "cell_type": "markdown",
      "source": [
        "##Q 6. Among the top 5 most popular artists, which artist has the highest popularity on average? Calculate and display the average popularity for each artist."
      ],
      "metadata": {
        "id": "z0HhziR2_kJX"
      }
    },
    {
      "cell_type": "code",
      "source": [
        "top_5_artists = df[\"Artist\"].value_counts().head(5).index\n",
        "\n",
        "avg_popularity = df[df[\"Artist\"].isin(top_5_artists)].groupby(\"Artist\")[\"Popularity\"].mean()\n",
        "\n",
        "top_artist_by_avg_popularity = avg_popularity.idxmax()\n",
        "highest_avg_popularity = avg_popularity.max()\n",
        "\n",
        "avg_popularity, (top_artist_by_avg_popularity, highest_avg_popularity)"
      ],
      "metadata": {
        "id": "-QDrWFNpMzZg"
      },
      "execution_count": null,
      "outputs": []
    },
    {
      "cell_type": "markdown",
      "source": [
        "Among the top 5 artists with the most tracks, Eminem has the highest average popularity of 83.64.\n",
        "\n",
        "Here is the average popularity for each of the top 5 artists:\n",
        "* Eminem: 83.64\n",
        "* Drake: 82.88\n",
        "* Flo Rida: 78.00\n",
        "* Timbaland: 69.00\n",
        "* Ludacris: 63.00"
      ],
      "metadata": {
        "id": "waMP6oeqM3s5"
      }
    },
    {
      "cell_type": "markdown",
      "source": [
        "##Q 7. For the top 5 most popular artists, what are their most popular tracks? List the track name for each artist."
      ],
      "metadata": {
        "id": "Hw5VxbZ0_8j_"
      }
    },
    {
      "cell_type": "code",
      "source": [
        "most_popular_tracks = (\n",
        "    df[df[\"Artist\"].isin(top_5_artists)]\n",
        "    .sort_values(\"Popularity\", ascending=False)\n",
        "    .drop_duplicates(\"Artist\")[[\"Artist\", \"Track Name\", \"Popularity\"]]\n",
        ")\n",
        "\n",
        "most_popular_tracks"
      ],
      "metadata": {
        "id": "YCdugNJBNgo4"
      },
      "execution_count": null,
      "outputs": []
    },
    {
      "cell_type": "markdown",
      "source": [
        "Here are the most popular tracks for the top 5 most popular artists in the dataset:\n",
        "* Drake – Rich Baby Daddy (feat. Sexyy Red & SZA) (Popularity: 92)\n",
        "* Eminem – Without Me (Popularity: 90)\n",
        "* Timbaland – The Way I Are (Popularity: 85)\n",
        "* Flo Rida – Low (feat. T-Pain) (Popularity: 84)\n",
        "* Ludacris – My Chick Bad (Popularity: 67)"
      ],
      "metadata": {
        "id": "fouAV-peNkII"
      }
    },
    {
      "cell_type": "markdown",
      "source": [
        "##Q 8. Visualize relationships between multiple numerical variables simultaneously using a pair plot."
      ],
      "metadata": {
        "id": "hmKOwd4kAaE_"
      }
    },
    {
      "cell_type": "code",
      "source": [
        "import seaborn as sns\n",
        "import matplotlib.pyplot as plt\n",
        "\n",
        "numerical_df = df[[\"Popularity\", \"Duration (ms)\"]]\n",
        "\n",
        "sns.pairplot(numerical_df)\n",
        "plt.show()"
      ],
      "metadata": {
        "id": "XATyQAsXOXkB"
      },
      "execution_count": null,
      "outputs": []
    },
    {
      "cell_type": "markdown",
      "source": [
        "Here is the pair plot for the numerical variables in your dataset. Since there are only two numerical columns (Popularity and Duration (ms)), the plot mainly shows their relationship through a scatterplot and their individual distributions on the diagonal."
      ],
      "metadata": {
        "id": "PNZHGLJ3OaWd"
      }
    },
    {
      "cell_type": "markdown",
      "source": [
        "##Q 9. Does the duration of tracks vary significantly across different artists? Explore this visually using a box plot or violin plot."
      ],
      "metadata": {
        "id": "SO26C95lAvYp"
      }
    },
    {
      "cell_type": "code",
      "source": [
        "top_10_artists = df[\"Artist\"].value_counts().head(10).index\n",
        "df_top_artists = df[df[\"Artist\"].isin(top_10_artists)]\n",
        "\n",
        "plt.figure(figsize=(12, 6))\n",
        "sns.boxplot(x=\"Artist\", y=\"Duration (ms)\", data=df_top_artists, palette=\"Set3\")\n",
        "\n",
        "plt.xticks(rotation=45, ha=\"right\")\n",
        "\n",
        "plt.xlabel(\"Artist\")\n",
        "plt.ylabel(\"Duration (ms)\")\n",
        "plt.title(\"Variation of Track Duration Across Top 10 Artists\")\n",
        "\n",
        "plt.show()"
      ],
      "metadata": {
        "id": "ZfE4FT1wO2aA"
      },
      "execution_count": null,
      "outputs": []
    },
    {
      "cell_type": "markdown",
      "source": [
        "Here is the box plot showing the variation in track duration across the top 10 artists. You can see how the durations differ, with some artists having a wider range of track lengths than others."
      ],
      "metadata": {
        "id": "w9MCHzWJO5oW"
      }
    },
    {
      "cell_type": "markdown",
      "source": [
        "##Q 10. How does the distribution of track popularity vary for different artists? Visualize this using a swarm plot or a violin plot."
      ],
      "metadata": {
        "id": "_0cOnNtwA_RX"
      }
    },
    {
      "cell_type": "code",
      "source": [
        "plt.figure(figsize=(12, 6))\n",
        "sns.violinplot(x=\"Artist\", y=\"Popularity\", data=df_top_artists, palette=\"Pastel1\")\n",
        "\n",
        "plt.xticks(rotation=45, ha=\"right\")\n",
        "\n",
        "plt.xlabel(\"Artist\")\n",
        "plt.ylabel(\"Popularity\")\n",
        "plt.title(\"Distribution of Track Popularity Across Top 10 Artists\")\n",
        "\n",
        "plt.show()"
      ],
      "metadata": {
        "id": "31Ss06rRPV8E"
      },
      "execution_count": null,
      "outputs": []
    },
    {
      "cell_type": "markdown",
      "source": [
        "Here is a violin plot displaying the distribution of track popularity for the top 10 artists in the dataset. It shows the density of popularity scores for each artist, with quartile markers inside."
      ],
      "metadata": {
        "id": "Bunx1w_GPZPm"
      }
    }
  ]
}